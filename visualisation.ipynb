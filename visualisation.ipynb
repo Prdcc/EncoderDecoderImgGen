{
 "cells": [
  {
   "cell_type": "code",
   "execution_count": 32,
   "metadata": {},
   "outputs": [],
   "source": [
    "import utils, generate, model\n",
    "from ipywidgets import interact, interactive, fixed, interact_manual\n",
    "import ipywidgets as widgets\n",
    "from IPython.display import display"
   ]
  },
  {
   "cell_type": "code",
   "execution_count": 33,
   "metadata": {},
   "outputs": [],
   "source": [
    "decoder = utils.loadModel(\"models/encoderDecoder.pth\").decoder"
   ]
  },
  {
   "cell_type": "code",
   "execution_count": 34,
   "metadata": {},
   "outputs": [],
   "source": [
    "import numpy as np\n",
    "import torch\n",
    "import matplotlib.pyplot as plt\n",
    "def plotImage(a,b,c,d,e,f,g,h,i,j):\n",
    "    latentVec = np.array((a,b,c,d,e,f,g,h,i,j))\n",
    "    latentVec = torch.from_numpy(latentVec).float().view(1,-1)\n",
    "    \n",
    "    img = decoder(latentVec)\n",
    "    img = img.view(28,28)\n",
    "    img = img.cpu().data.numpy()\n",
    "    f,ax = plt.subplots()\n",
    "    utils.plotImage(img, ax, False, True)\n",
    "\n",
    "    #plt.show()"
   ]
  },
  {
   "cell_type": "code",
   "execution_count": 35,
   "metadata": {
    "tags": []
   },
   "outputs": [
    {
     "output_type": "display_data",
     "data": {
      "text/plain": "<Figure size 432x288 with 1 Axes>",
      "image/svg+xml": "<?xml version=\"1.0\" encoding=\"utf-8\" standalone=\"no\"?>\r\n<!DOCTYPE svg PUBLIC \"-//W3C//DTD SVG 1.1//EN\"\r\n  \"http://www.w3.org/Graphics/SVG/1.1/DTD/svg11.dtd\">\r\n<!-- Created with matplotlib (https://matplotlib.org/) -->\r\n<svg height=\"231.84pt\" version=\"1.1\" viewBox=\"0 0 231.84 231.84\" width=\"231.84pt\" xmlns=\"http://www.w3.org/2000/svg\" xmlns:xlink=\"http://www.w3.org/1999/xlink\">\r\n <defs>\r\n  <style type=\"text/css\">\r\n*{stroke-linecap:butt;stroke-linejoin:round;}\r\n  </style>\r\n </defs>\r\n <g id=\"figure_1\">\r\n  <g id=\"patch_1\">\r\n   <path d=\"M 0 231.84 \r\nL 231.84 231.84 \r\nL 231.84 0 \r\nL 0 0 \r\nz\r\n\" style=\"fill:none;\"/>\r\n  </g>\r\n  <g id=\"axes_1\">\r\n   <g id=\"patch_2\">\r\n    <path d=\"M 7.2 224.64 \r\nL 224.64 224.64 \r\nL 224.64 7.2 \r\nL 7.2 7.2 \r\nz\r\n\" style=\"fill:#eaeaf2;\"/>\r\n   </g>\r\n   <g clip-path=\"url(#p98e29142b4)\">\r\n    <image height=\"218\" id=\"imagec61fcc6c33\" transform=\"scale(1 -1)translate(0 -218)\" width=\"218\" x=\"7.2\" xlink:href=\"data:image/png;base64,\r\niVBORw0KGgoAAAANSUhEUgAAANoAAADaCAYAAADAHVzbAAAABHNCSVQICAgIfAhkiAAABWRJREFUeJzt3d1u4koQhVEISHn/9x3IuTtXk64oNbW7Sda6tcyP4ZMll9q+Ph6Pj8vC29vbavOxPj6WX2vr9ufzudy3Ur135Xq9fmvb5VL/H6r9q+1T+/6L/Veq3/Q1K4IXIzQIEBoECA0ChAYBQoMAoUHAfXK2cLJqFlXNRSbnaJNzssl9v7L/b/2/OaNBgNAgQGgQIDQIEBoECA0ChAYB990fYKUz63o8Hst9//z503rvzqxr8rW/orMerbv9drt9uq271q27/yRnNAgQGgQIDQKEBgFCgwChQcC9upTcuSTaXYpSXYJfXcKvXnvnLd92LxXpfveO1W/aHR28v78vt+/8rzujQYDQIEBoECA0CBAaBAgNAoQGAaPLZLpztGqpS2cetHNJxc7byVW6n21yiU/3/7LzEWTOaBAgNAgQGgQIDQKEBgFCgwChQcDRj22avu3apMnPfvJx2fl/6j4Oa/KzO6NBgNAgQGgQIDQIEBoECA0ChAYBRz+26ZWtZjInz8GmTX73aj1atb3zOKuKMxoECA0ChAYBQoMAoUGA0CBAaBBw9Bytml286jPKuu/9m+dwK93n7d3vn+fQPebOaBAgNAgQGgQIDQKEBgFCg4DRy/vTl9A7S1F23nrsN+v8ZtVv0h0HTY6LnNEgQGgQIDQIEBoECA0ChAYBQoOAo5fJ7NSd6az2N6P7u+5x6c7ZPLYJXpzQIEBoECA0CBAaBAgNAoQGAeZo39RZu+R2cX83vUbw7e3755XuWjdnNAgQGgQIDQKEBgFCgwChQYDQIMAc7RMerTRj53HpzNHa773tneEXERoECA0ChAYBQoMAoUHA0Zf3u0sTpva9XNwy7hVN3m7OY5vgAEKDAKFBgNAgQGgQIDQIEBoEHD1HO3mpSTU3eT6f39532ur9Tz7m1Wcrb/nmdnPwswkNAoQGAUKDAKFBgNAgQGgQsHWO9sq3dNs9C/uNusd8cj1axRkNAoQGAUKDAKFBgNAgQGgQIDQIGJ2j7Zx7TM/YzNHOc7vdltt3/mbOaBAgNAgQGgQIDQKEBgFCgwChQcBLr0fr6M7Zqv1fdc42+Uy66vW7x7Sao1U6v5n7OsIBhAYBQoMAoUGA0CBAaBBw9GObdqou164ey1Ttf/Kl/5Nv4Vc9dul+X/+dLZOBH05oECA0CBAaBAgNAoQGAUKDgKPnaJOP2XnlR0a9stVxr2aT3f/D5BytnAGOvTPwP6FBgNAgQGgQIDQIEBoECA0Cjp6jTc6qptcmTb7+T73VXaVaj7aTORocQGgQIDQIEBoECA0ChAYBQoOAo+dolc6crTuLmn680aTVPOrxeCz3Pfl7ncwZDQKEBgFCgwChQYDQIEBoECA0CDh6jlbNbDrPIPvN93VcffeT17J1/g9f2d757tVrO6NBgNAgQGgQIDQIEBoECA0C7idfzq1uL/bKl9hXpr/X6rhWj07aeQm9+mwnc0aDAKFBgNAgQGgQIDQIEBoECA0Cti6TqWYqt9vt26998sxlek5WPkJoMUfrHPPLpT7uq8/WPS47Z3wVZzQIEBoECA0ChAYBQoMAoUGA0CBg6xytWm9WWc18ptdVdbZ3Z3ydOVm1vXubvs53685Vp28x2OGMBgFCgwChQYDQIEBoECA0CBAaBFw/furNEQs71z5137s7L5qcJ3XmaN31YtX8cPJ7e2wTHEBoECA0CBAaBAgNAoQGAdfn87m8LnnyY5126lyi3315v2N6LLJy8jIYl/fhAEKDAKFBgNAgQGgQIDQIEBoEbL3d3Mmmb0e30p0HTa58mjwu3dsP7nwsU7U8yBkNAoQGAUKDAKFBgNAgQGgQIDQI+A98jcDbY5NpVQAAAABJRU5ErkJggg==\" y=\"-6.64\"/>\r\n   </g>\r\n   <g id=\"matplotlib.axis_1\"/>\r\n   <g id=\"matplotlib.axis_2\"/>\r\n   <g id=\"patch_3\">\r\n    <path d=\"M 7.2 224.64 \r\nL 7.2 7.2 \r\n\" style=\"fill:none;stroke:#ffffff;stroke-linecap:square;stroke-linejoin:miter;stroke-width:1.25;\"/>\r\n   </g>\r\n   <g id=\"patch_4\">\r\n    <path d=\"M 224.64 224.64 \r\nL 224.64 7.2 \r\n\" style=\"fill:none;stroke:#ffffff;stroke-linecap:square;stroke-linejoin:miter;stroke-width:1.25;\"/>\r\n   </g>\r\n   <g id=\"patch_5\">\r\n    <path d=\"M 7.2 224.64 \r\nL 224.64 224.64 \r\n\" style=\"fill:none;stroke:#ffffff;stroke-linecap:square;stroke-linejoin:miter;stroke-width:1.25;\"/>\r\n   </g>\r\n   <g id=\"patch_6\">\r\n    <path d=\"M 7.2 7.2 \r\nL 224.64 7.2 \r\n\" style=\"fill:none;stroke:#ffffff;stroke-linecap:square;stroke-linejoin:miter;stroke-width:1.25;\"/>\r\n   </g>\r\n  </g>\r\n </g>\r\n <defs>\r\n  <clipPath id=\"p98e29142b4\">\r\n   <rect height=\"217.44\" width=\"217.44\" x=\"7.2\" y=\"7.2\"/>\r\n  </clipPath>\r\n </defs>\r\n</svg>\r\n",
      "image/png": "[encoded data removed]"
     },
     "metadata": {}
    }
   ],
   "source": [
    "%matplotlib inline\n",
    "\n",
    "interactive_plot = interactive(plotImage, a=(-5, 5, 0.1), b=(-5, 5, 0.1), c=(-5, 5, 0.1), d=(-5, 5, 0.1), e=(-5, 5, 0.1), f=(-5, 5, 0.1), g=(-5, 5, 0.1), h=(-5, 5, 0.1), i=(-5, 5, 0.1), j=(-5, 5, 0.1))\n",
    "interactive_plot"
   ]
  },
  {
   "cell_type": "code",
   "execution_count": null,
   "metadata": {},
   "outputs": [],
   "source": []
  }
 ],
 "metadata": {
  "language_info": {
   "codemirror_mode": {
    "name": "ipython",
    "version": 3
   },
   "file_extension": ".py",
   "mimetype": "text/x-python",
   "name": "python",
   "nbconvert_exporter": "python",
   "pygments_lexer": "ipython3",
   "version": 3
  },
  "orig_nbformat": 2,
  "kernelspec": {
   "name": "python_defaultSpec_1594219771686",
   "display_name": "Python 3.6.8 64-bit"
  }
 },
 "nbformat": 4,
 "nbformat_minor": 2
}